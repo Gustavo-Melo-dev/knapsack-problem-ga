{
 "metadata": {
  "language_info": {
   "codemirror_mode": {
    "name": "ipython",
    "version": 3
   },
   "file_extension": ".py",
   "mimetype": "text/x-python",
   "name": "python",
   "nbconvert_exporter": "python",
   "pygments_lexer": "ipython3",
   "version": "3.9.2-final"
  },
  "orig_nbformat": 2,
  "kernelspec": {
   "name": "python392jvsc74a57bd0c30171189c2ed51c2df8f5e05ae14933326d89c91788ba063dcb86b346e394a3",
   "display_name": "Python 3.9.2 64-bit ('venv')"
  }
 },
 "nbformat": 4,
 "nbformat_minor": 2,
 "cells": [
  {
   "source": [
    "# Problema da mochila resolvido pelo algorítmo genético\n",
    "---\n",
    "* Equipe:\n",
    "    * Gustavo dos Santos Melo\n",
    "    * Luciano Douglas Machado Chagas\n",
    "* Professor (a):\n",
    "    * Adolfo Pinto Guimarães "
   ],
   "cell_type": "markdown",
   "metadata": {}
  },
  {
   "source": [
    "## 1. Instala as bibliotecas necessárias\n",
    "\n",
    "Como o Google Colaboratory não mantém armazenada as bibliotecas que foram instaladas pelo usuário, e precisamos das bibliotecas **deap**, **matplotlib** e **numpy** instaladas. Elaboramos o código á baixo que faz o seguinte processo:\n",
    "\n",
    "1. Executa o comando ```!pip freeze > requirements.txt```, que é responsável por listar todas as bibliotecas instaladas no ambiente no arquivo ```requirements.txt```;\n",
    "\n",
    "2. Inicializa uma lista de bibliotecar requeridas, que são **deap**, **matplotlib** e **numpy**;\n",
    "\n",
    "3. Abre o arquivo ```requirements.txt``` gerado no modo leitura;\n",
    "\n",
    "4. Percorre cada linha do arquivo aberto;\n",
    "\n",
    "    4.1. Como percebemos que o arquivo tem o padrão ```nome == versão``` na listagem das bibliotecas, na linha atual, quebramos em uma lista de string usando como separador os caractere ```==```;\n",
    "    \n",
    "    4.2. Á partir da separação do nome da biblioteca, verificamos se o nome dessa biblioteca está na lista de bibliotecas requeridas, caso esteja remove-se na lista de bibliotecas requeridas o nome da biblioteca atual;\n",
    "\n",
    "5. Após a remoção do nome das bibliotecas que já se encontram instaladas, é encerrado o processo de leitura do arquivo e instalado as bibliotecas que ainda estão instalados."
   ],
   "cell_type": "markdown",
   "metadata": {}
  },
  {
   "cell_type": "code",
   "execution_count": null,
   "metadata": {},
   "outputs": [],
   "source": [
    "!pip freeze > requirements.txt\n",
    "\n",
    "bibliotecas_requeridas = [\n",
    "    \"deap\",\n",
    "    \"matplotlib\",\n",
    "    \"numpy\"\n",
    "]\n",
    "\n",
    "with open(file=\"./requirements.txt\", mode=\"r\") as arquivo:\n",
    "    for linha in arquivo:\n",
    "        pedaco_linha = linha.split(\"==\")\n",
    "\n",
    "        if pedaco_linha[0] in bibliotecas_requeridas:\n",
    "            bibliotecas_requeridas.remove(pedaco_linha[0])\n",
    "\n",
    "    arquivo.close()\n",
    "\n",
    "if len(bibliotecas_requeridas) == 0:\n",
    "    print(\"Requisição de bibliotecas já satisfeita!\")\n",
    "else:\n",
    "    if \"deap\" in bibliotecas_requeridas:\n",
    "        !pip install deap\n",
    "\n",
    "    if \"matplotlib\" in bibliotecas_requeridas:\n",
    "        !pip install matplotlib\n",
    "\n",
    "    if \"numpy\" in bibliotecas_requeridas:\n",
    "        !pip install numpy"
   ]
  },
  {
   "source": [
    "## 2. Importa as bibliotecas necessárias"
   ],
   "cell_type": "markdown",
   "metadata": {}
  },
  {
   "cell_type": "code",
   "execution_count": null,
   "metadata": {},
   "outputs": [],
   "source": [
    "import json\n",
    "import numpy\n",
    "import random\n",
    "\n",
    "from deap import algorithms, base, creator, tools"
   ]
  },
  {
   "source": [
    "## 3. Gera Itens aleatórios"
   ],
   "cell_type": "markdown",
   "metadata": {}
  },
  {
   "cell_type": "code",
   "execution_count": null,
   "metadata": {},
   "outputs": [],
   "source": [
    "TAMANHO_POPULACAO = 5\n",
    "MAXIMO_ITENS = 50\n",
    "MAXIMO_PESO = 50\n",
    "NUMERO_ITENS = 20\n",
    "\n",
    "# Para poder reproduzir o mesmo experimento depois,\n",
    "# precisa colocar um valor na semente (Seed)\n",
    "\n",
    "random.seed(\n",
    "    a=64\n",
    ")\n",
    "\n",
    "itens = {}\n",
    "\n",
    "# Gera itens com peso e valor aleatório\n",
    "\n",
    "for i in range(NUMERO_ITENS):\n",
    "    itens[i] = (\n",
    "        random.randint(\n",
    "            a=1,\n",
    "            b=10\n",
    "        ),\n",
    "        random.uniform(\n",
    "            a=0,\n",
    "            b=100\n",
    "        )\n",
    "    )\n",
    "\n",
    "# Imprime os itens gerados\n",
    "\n",
    "print(\n",
    "    json.dumps(\n",
    "        itens,\n",
    "        indent= 2,\n",
    "        sort_keys=True,\n",
    "        ensure_ascii=True\n",
    "    )\n",
    ")"
   ]
  },
  {
   "source": [
    "## 4. Gera a função de apitidão do tipo MinMax e os individuos"
   ],
   "cell_type": "markdown",
   "metadata": {}
  },
  {
   "cell_type": "code",
   "execution_count": null,
   "metadata": {},
   "outputs": [],
   "source": [
    "# Gera função MinMax\n",
    "\n",
    "creator.create(\n",
    "    \"FitnessMinMax\",\n",
    "    base.Fitness,\n",
    "    weights=(\n",
    "        -1.0,\n",
    "        1.0\n",
    "    )\n",
    ")\n",
    "\n",
    "# Gera Individuo\n",
    "\n",
    "creator.create(\n",
    "    \"Mochila\",\n",
    "    set,\n",
    "    fitness=creator.FitnessMinMax\n",
    ")"
   ]
  },
  {
   "source": [
    "## 5. Inicializa a mochila dos indivíduos, a população e registra as funções que vai ser ultilizado pelo eaMuPlusLambda"
   ],
   "cell_type": "markdown",
   "metadata": {}
  },
  {
   "cell_type": "code",
   "execution_count": null,
   "metadata": {},
   "outputs": [],
   "source": [
    "def calc_mochila(mochila):\n",
    "    peso = 0.0\n",
    "    valor = 0.0\n",
    "    for item in mochila:\n",
    "        peso += itens[item][0]\n",
    "        valor += itens[item][1]\n",
    "    \n",
    "    # Se a mochila não for válida, retorne o pior \"possível\":\n",
    "    # algo pesado e sem valor\n",
    "    if len(mochila) > MAXIMO_ITENS or peso > MAXIMO_PESO:\n",
    "        return 10000, 0 \n",
    "\n",
    "    return peso, valor"
   ]
  },
  {
   "cell_type": "code",
   "execution_count": null,
   "metadata": {},
   "outputs": [],
   "source": [
    "def crossover(individuo_1, individuo_2):\n",
    "    \"\"\"\n",
    "    Como estamos usando Conjuntos, a função de crossover é feita com\n",
    "    os operadores &= e ^= de conjuntos.\n",
    "    & = : Intersecção entre Conjunto 1 e 2\n",
    "    ^ = : Diferença Simétrica entre Conjunto 1 e 2\n",
    "    \"\"\"\n",
    "    temp = set(individuo_1)\n",
    "    individuo_1 &= individuo_2\n",
    "    individuo_2 ^= temp\n",
    "    return individuo_1, individuo_2"
   ]
  },
  {
   "cell_type": "code",
   "execution_count": null,
   "metadata": {},
   "outputs": [],
   "source": [
    "def mutacao(individuo):\n",
    "    \"\"\"Mutacao adiciona ou remove uma Mochila com 50% de chance\"\"\"\n",
    "    if random.random() < 0.5:\n",
    "        if len(individuo) > 0:     # We cannot pop from an empty set\n",
    "            individuo.remove(random.choice(sorted(tuple(individuo))))\n",
    "    else:\n",
    "        individuo.add(random.randrange(NUMERO_ITENS))\n",
    "\n",
    "    return individuo,"
   ]
  },
  {
   "cell_type": "code",
   "execution_count": null,
   "metadata": {},
   "outputs": [],
   "source": [
    "# Inicializa o Toolbox\n",
    "\n",
    "toolbox = base.Toolbox()\n",
    "\n",
    "# Registra um numero aleatório de no máximo NUMERO_ITENS\n",
    "\n",
    "toolbox.register(\n",
    "    \"atributo\",\n",
    "    random.randrange,\n",
    "    NUMERO_ITENS\n",
    ")\n",
    "\n",
    "# Inicializa a mochila\n",
    "\n",
    "toolbox.register(\n",
    "    \"mochila\", \n",
    "    tools.initRepeat, \n",
    "    creator.Mochila, \n",
    "    toolbox.atributo,\n",
    "    TAMANHO_POPULACAO\n",
    ")\n",
    "\n",
    "# Inicializa a população\n",
    "\n",
    "toolbox.register(\n",
    "    \"population\",\n",
    "    tools.initRepeat, \n",
    "    list, \n",
    "    toolbox.mochila\n",
    ")\n",
    "\n",
    "# Registrando as funcoes que necessárias\n",
    "\n",
    "toolbox.register(\n",
    "    \"evaluate\",\n",
    "    calc_mochila\n",
    ")\n",
    "\n",
    "toolbox.register(\n",
    "    \"mate\",\n",
    "    crossover\n",
    ")\n",
    "\n",
    "toolbox.register(\n",
    "    \"mutate\",\n",
    "    mutacao\n",
    ")\n",
    "\n",
    "toolbox.register(\n",
    "    \"select\",\n",
    "    tools.selNSGA2\n",
    ")"
   ]
  },
  {
   "source": [
    "# 6. Gera e imprime dados estatísticos"
   ],
   "cell_type": "markdown",
   "metadata": {}
  },
  {
   "cell_type": "code",
   "execution_count": null,
   "metadata": {
    "tags": []
   },
   "outputs": [],
   "source": [
    "GERACOES = 50   # quantas geracoes ou epocas serao geradas\n",
    "MU = 50         # tamanho da populacao\n",
    "LAMBDA = 100    # tamanho da recombinacao\n",
    "CXPB = 0.7      # porcentagem da populacao que vai sofrer crossover\n",
    "MUTPB = 0.2     # porcentagem da populacao que vai sofrer mutacao\n",
    "\n",
    "pop = toolbox.population(n=MU)\n",
    "hof = tools.ParetoFront()\n",
    "\n",
    "stats = tools.Statistics(lambda ind: ind.fitness.values)\n",
    "\n",
    "stats.register(\"avg\", numpy.mean, axis=0)\n",
    "stats.register(\"std\", numpy.std, axis=0)\n",
    "stats.register(\"min\", numpy.min, axis=0)\n",
    "stats.register(\"max\", numpy.max, axis=0)\n",
    "\n",
    "final = algorithms.eaMuPlusLambda(\n",
    "    pop, \n",
    "    toolbox, \n",
    "    MU, \n",
    "    LAMBDA,\n",
    "    CXPB, \n",
    "    MUTPB, \n",
    "    GERACOES, \n",
    "    stats, \n",
    "    halloffame=hof\n",
    ")"
   ]
  },
  {
   "cell_type": "code",
   "execution_count": null,
   "metadata": {},
   "outputs": [],
   "source": [
    "print(\"Populacao final:\")\n",
    "for item in pop:\n",
    "  print(item)"
   ]
  },
  {
   "cell_type": "code",
   "execution_count": null,
   "metadata": {},
   "outputs": [],
   "source": [
    "print(\"Estatistica Final:\")\n",
    "print(stats.compile(pop))"
   ]
  },
  {
   "cell_type": "code",
   "execution_count": null,
   "metadata": {},
   "outputs": [],
   "source": [
    "for item in reversed(hof):\n",
    "  print(f\"{item} Peso: {calc_mochila(item)[0]}, Valor: {calc_mochila(item)[1]}\")"
   ]
  }
 ]
}